{
 "cells": [
  {
   "cell_type": "markdown",
   "metadata": {
    "deletable": true,
    "editable": true
   },
   "source": [
    "# TV Script Generation\n",
    "In this project, you'll generate your own [Simpsons](https://en.wikipedia.org/wiki/The_Simpsons) TV scripts using RNNs.  You'll be using part of the [Simpsons dataset](https://www.kaggle.com/wcukierski/the-simpsons-by-the-data) of scripts from 27 seasons.  The Neural Network you'll build will generate a new TV script for a scene at [Moe's Tavern](https://simpsonswiki.com/wiki/Moe's_Tavern).\n",
    "## Get the Data\n",
    "The data is already provided for you.  You'll be using a subset of the original dataset.  It consists of only the scenes in Moe's Tavern.  This doesn't include other versions of the tavern, like \"Moe's Cavern\", \"Flaming Moe's\", \"Uncle Moe's Family Feed-Bag\", etc.."
   ]
  },
  {
   "cell_type": "code",
   "execution_count": 167,
   "metadata": {
    "collapsed": false,
    "deletable": true,
    "editable": true
   },
   "outputs": [],
   "source": [
    "\"\"\"\n",
    "DON'T MODIFY ANYTHING IN THIS CELL\n",
    "\"\"\"\n",
    "import helper\n",
    "\n",
    "data_dir = './data/simpsons/moes_tavern_lines.txt'\n",
    "text = helper.load_data(data_dir)\n",
    "# Ignore notice, since we don't use it for analysing the data\n",
    "text = text[81:]"
   ]
  },
  {
   "cell_type": "markdown",
   "metadata": {
    "deletable": true,
    "editable": true
   },
   "source": [
    "## Explore the Data\n",
    "Play around with `view_sentence_range` to view different parts of the data."
   ]
  },
  {
   "cell_type": "code",
   "execution_count": 168,
   "metadata": {
    "collapsed": false,
    "deletable": true,
    "editable": true
   },
   "outputs": [
    {
     "name": "stdout",
     "output_type": "stream",
     "text": [
      "Dataset Stats\n",
      "Roughly the number of unique words: 11492\n",
      "Number of scenes: 262\n",
      "Average number of sentences in each scene: 15.248091603053435\n",
      "Number of lines: 4257\n",
      "Average number of words in each line: 11.50434578341555\n",
      "\n",
      "The sentences 30 to 45:\n",
      "Lisa_Simpson: He's just a little nervous. (PROUDLY) He has to give a speech tomorrow on \"How To Keep Cool In A Crisis.\"\n",
      "Homer_Simpson: (SOBS) What am I gonna do? What am I gonna do?\n",
      "Barney_Gumble: Hey, I had to give a speech once. I was pretty nervous, so I used a little trick. I pictured everyone in their underwear. The judge, the jury, my lawyer, everybody.\n",
      "Homer_Simpson: Did it work?\n",
      "Barney_Gumble: I'm a free man, ain't I?\n",
      "Barney_Gumble: Whoa!\n",
      "Barney_Gumble: Huh? A pretzel? Wow, looks like I pulled a Homer!\n",
      "\n",
      "\n",
      "Patrons: (MUMBLING, NOT IN UNISON) Happy thoughts... happy thoughts... we love that boy.\n",
      "Moe_Szyslak: (INTO PHONE) Moe's Tavern. Hold on, I'll check. ... (LOUD) Hey everybody! I'm a stupid moron with an ugly face and a big butt, and my butt smells, and I like to kiss my own butt.\n",
      "Barney_Gumble: That's a new one (LAUGHING).\n",
      "Moe_Szyslak: Now wait a minute...\n",
      "\n",
      "\n"
     ]
    }
   ],
   "source": [
    "view_sentence_range = (30, 45)\n",
    "\n",
    "\"\"\"\n",
    "DON'T MODIFY ANYTHING IN THIS CELL\n",
    "\"\"\"\n",
    "import numpy as np\n",
    "\n",
    "print('Dataset Stats')\n",
    "print('Roughly the number of unique words: {}'.format(len({word: None for word in text.split()})))\n",
    "scenes = text.split('\\n\\n')\n",
    "print('Number of scenes: {}'.format(len(scenes)))\n",
    "sentence_count_scene = [scene.count('\\n') for scene in scenes]\n",
    "print('Average number of sentences in each scene: {}'.format(np.average(sentence_count_scene)))\n",
    "\n",
    "sentences = [sentence for scene in scenes for sentence in scene.split('\\n')]\n",
    "print('Number of lines: {}'.format(len(sentences)))\n",
    "word_count_sentence = [len(sentence.split()) for sentence in sentences]\n",
    "print('Average number of words in each line: {}'.format(np.average(word_count_sentence)))\n",
    "\n",
    "print()\n",
    "print('The sentences {} to {}:'.format(*view_sentence_range))\n",
    "print('\\n'.join(text.split('\\n')[view_sentence_range[0]:view_sentence_range[1]]))"
   ]
  },
  {
   "cell_type": "markdown",
   "metadata": {
    "deletable": true,
    "editable": true
   },
   "source": [
    "## Implement Preprocessing Functions\n",
    "The first thing to do to any dataset is preprocessing.  Implement the following preprocessing functions below:\n",
    "- Lookup Table\n",
    "- Tokenize Punctuation\n",
    "\n",
    "### Lookup Table\n",
    "To create a word embedding, you first need to transform the words to ids.  In this function, create two dictionaries:\n",
    "- Dictionary to go from the words to an id, we'll call `vocab_to_int`\n",
    "- Dictionary to go from the id to word, we'll call `int_to_vocab`\n",
    "\n",
    "Return these dictionaries in the following tuple `(vocab_to_int, int_to_vocab)`"
   ]
  },
  {
   "cell_type": "code",
   "execution_count": 169,
   "metadata": {
    "collapsed": false,
    "deletable": true,
    "editable": true
   },
   "outputs": [
    {
     "name": "stdout",
     "output_type": "stream",
     "text": [
      "Tests Passed\n"
     ]
    }
   ],
   "source": [
    "import numpy as np\n",
    "import problem_unittests as tests\n",
    "import re\n",
    "\n",
    "def create_lookup_tables(text):\n",
    "    \"\"\"\n",
    "    Create lookup tables for vocabulary\n",
    "    :param text: The text of tv scripts split into words\n",
    "    :return: A tuple of dicts (vocab_to_int, int_to_vocab)\n",
    "    \"\"\"\n",
    "    vocab = set(text)\n",
    "    vocab_to_int = {word: i for i, word in enumerate(vocab)}\n",
    "    int_to_vocab = {i: word for word, i in vocab_to_int.items()}\n",
    "    return vocab_to_int, int_to_vocab\n",
    "\n",
    "\n",
    "\"\"\"\n",
    "DON'T MODIFY ANYTHING IN THIS CELL THAT IS BELOW THIS LINE\n",
    "\"\"\"\n",
    "tests.test_create_lookup_tables(create_lookup_tables)"
   ]
  },
  {
   "cell_type": "markdown",
   "metadata": {
    "deletable": true,
    "editable": true
   },
   "source": [
    "### Tokenize Punctuation\n",
    "We'll be splitting the script into a word array using spaces as delimiters.  However, punctuations like periods and exclamation marks make it hard for the neural network to distinguish between the word \"bye\" and \"bye!\".\n",
    "\n",
    "Implement the function `token_lookup` to return a dict that will be used to tokenize symbols like \"!\" into \"||Exclamation_Mark||\".  Create a dictionary for the following symbols where the symbol is the key and value is the token:\n",
    "- Period ( . )\n",
    "- Comma ( , )\n",
    "- Quotation Mark ( \" )\n",
    "- Semicolon ( ; )\n",
    "- Exclamation mark ( ! )\n",
    "- Question mark ( ? )\n",
    "- Left Parentheses ( ( )\n",
    "- Right Parentheses ( ) )\n",
    "- Dash ( -- )\n",
    "- Return ( \\n )\n",
    "\n",
    "This dictionary will be used to token the symbols and add the delimiter (space) around it.  This separates the symbols as it's own word, making it easier for the neural network to predict on the next word. Make sure you don't use a token that could be confused as a word. Instead of using the token \"dash\", try using something like \"||dash||\"."
   ]
  },
  {
   "cell_type": "code",
   "execution_count": 170,
   "metadata": {
    "collapsed": false,
    "deletable": true,
    "editable": true
   },
   "outputs": [
    {
     "name": "stdout",
     "output_type": "stream",
     "text": [
      "Tests Passed\n"
     ]
    }
   ],
   "source": [
    "def token_lookup():\n",
    "    \"\"\"\n",
    "    Generate a dict to turn punctuation into a token.\n",
    "    :return: Tokenize dictionary where the key is the punctuation and the value is the token\n",
    "    \"\"\"\n",
    "    token_dict = {\n",
    "        '.': \"||Period||\",\n",
    "        ',': \"||Comma||\",\n",
    "        '\"': \"||Quotation_Mark||\",\n",
    "        ';': \"||Semicolon||\",\n",
    "        '!': \"||Exclamation_Mark||\",\n",
    "        '?': \"||Question_Mark||\",\n",
    "        '(': \"||Left_Parentheses||\",\n",
    "        ')': \"||Right_Parentheses||\",\n",
    "        '--': \"||Dash||\",\n",
    "        '\\n': \"||Return||\"\n",
    "    }\n",
    "    return token_dict\n",
    "\n",
    "\"\"\"\n",
    "DON'T MODIFY ANYTHING IN THIS CELL THAT IS BELOW THIS LINE\n",
    "\"\"\"\n",
    "tests.test_tokenize(token_lookup)"
   ]
  },
  {
   "cell_type": "markdown",
   "metadata": {
    "deletable": true,
    "editable": true
   },
   "source": [
    "## Preprocess all the data and save it\n",
    "Running the code cell below will preprocess all the data and save it to file."
   ]
  },
  {
   "cell_type": "code",
   "execution_count": 171,
   "metadata": {
    "collapsed": false,
    "deletable": true,
    "editable": true
   },
   "outputs": [],
   "source": [
    "\"\"\"\n",
    "DON'T MODIFY ANYTHING IN THIS CELL\n",
    "\"\"\"\n",
    "# Preprocess Training, Validation, and Testing Data\n",
    "helper.preprocess_and_save_data(data_dir, token_lookup, create_lookup_tables)"
   ]
  },
  {
   "cell_type": "markdown",
   "metadata": {
    "deletable": true,
    "editable": true
   },
   "source": [
    "# Check Point\n",
    "This is your first checkpoint. If you ever decide to come back to this notebook or have to restart the notebook, you can start from here. The preprocessed data has been saved to disk."
   ]
  },
  {
   "cell_type": "code",
   "execution_count": 172,
   "metadata": {
    "collapsed": false,
    "deletable": true,
    "editable": true
   },
   "outputs": [],
   "source": [
    "\"\"\"\n",
    "DON'T MODIFY ANYTHING IN THIS CELL\n",
    "\"\"\"\n",
    "import helper\n",
    "import numpy as np\n",
    "import problem_unittests as tests\n",
    "\n",
    "int_text, vocab_to_int, int_to_vocab, token_dict = helper.load_preprocess()"
   ]
  },
  {
   "cell_type": "markdown",
   "metadata": {
    "deletable": true,
    "editable": true
   },
   "source": [
    "## Build the Neural Network\n",
    "You'll build the components necessary to build a RNN by implementing the following functions below:\n",
    "- get_inputs\n",
    "- get_init_cell\n",
    "- get_embed\n",
    "- build_rnn\n",
    "- build_nn\n",
    "- get_batches\n",
    "\n",
    "### Check the Version of TensorFlow and Access to GPU"
   ]
  },
  {
   "cell_type": "code",
   "execution_count": 173,
   "metadata": {
    "collapsed": false,
    "deletable": true,
    "editable": true
   },
   "outputs": [
    {
     "name": "stdout",
     "output_type": "stream",
     "text": [
      "TensorFlow Version: 1.0.0\n",
      "Default GPU Device: /gpu:0\n"
     ]
    }
   ],
   "source": [
    "\"\"\"\n",
    "DON'T MODIFY ANYTHING IN THIS CELL\n",
    "\"\"\"\n",
    "from distutils.version import LooseVersion\n",
    "import warnings\n",
    "import tensorflow as tf\n",
    "\n",
    "# Check TensorFlow Version\n",
    "assert LooseVersion(tf.__version__) >= LooseVersion('1.0'), 'Please use TensorFlow version 1.0 or newer'\n",
    "print('TensorFlow Version: {}'.format(tf.__version__))\n",
    "\n",
    "# Check for a GPU\n",
    "if not tf.test.gpu_device_name():\n",
    "    warnings.warn('No GPU found. Please use a GPU to train your neural network.')\n",
    "else:\n",
    "    print('Default GPU Device: {}'.format(tf.test.gpu_device_name()))"
   ]
  },
  {
   "cell_type": "markdown",
   "metadata": {
    "deletable": true,
    "editable": true
   },
   "source": [
    "### Input\n",
    "Implement the `get_inputs()` function to create TF Placeholders for the Neural Network.  It should create the following placeholders:\n",
    "- Input text placeholder named \"input\" using the [TF Placeholder](https://www.tensorflow.org/api_docs/python/tf/placeholder) `name` parameter.\n",
    "- Targets placeholder\n",
    "- Learning Rate placeholder\n",
    "\n",
    "Return the placeholders in the following tuple `(Input, Targets, LearningRate)`"
   ]
  },
  {
   "cell_type": "code",
   "execution_count": 174,
   "metadata": {
    "collapsed": false,
    "deletable": true,
    "editable": true
   },
   "outputs": [
    {
     "name": "stdout",
     "output_type": "stream",
     "text": [
      "Tests Passed\n"
     ]
    }
   ],
   "source": [
    "def get_inputs():\n",
    "    \"\"\"\n",
    "    Create TF Placeholders for input, targets, and learning rate.\n",
    "    :return: Tuple (input, targets, learning rate)\n",
    "    \"\"\"\n",
    "    inputs_ = tf.placeholder(tf.int32, [None, None], name='input')\n",
    "    targets_ = tf.placeholder(tf.int32, [None, None], name='targets')\n",
    "    learning_rate = tf.placeholder(tf.float32, name='learning_rate')\n",
    "    return inputs_, targets_, learning_rate\n",
    "\n",
    "\n",
    "\"\"\"\n",
    "DON'T MODIFY ANYTHING IN THIS CELL THAT IS BELOW THIS LINE\n",
    "\"\"\"\n",
    "tests.test_get_inputs(get_inputs)"
   ]
  },
  {
   "cell_type": "markdown",
   "metadata": {
    "deletable": true,
    "editable": true
   },
   "source": [
    "### Build RNN Cell and Initialize\n",
    "Stack one or more [`BasicLSTMCells`](https://www.tensorflow.org/api_docs/python/tf/contrib/rnn/BasicLSTMCell) in a [`MultiRNNCell`](https://www.tensorflow.org/api_docs/python/tf/contrib/rnn/MultiRNNCell).\n",
    "- The Rnn size should be set using `rnn_size`\n",
    "- Initalize Cell State using the MultiRNNCell's [`zero_state()`](https://www.tensorflow.org/api_docs/python/tf/contrib/rnn/MultiRNNCell#zero_state) function\n",
    "    - Apply the name \"initial_state\" to the initial state using [`tf.identity()`](https://www.tensorflow.org/api_docs/python/tf/identity)\n",
    "\n",
    "Return the cell and initial state in the following tuple `(Cell, InitialState)`"
   ]
  },
  {
   "cell_type": "code",
   "execution_count": 175,
   "metadata": {
    "collapsed": false,
    "deletable": true,
    "editable": true
   },
   "outputs": [
    {
     "name": "stdout",
     "output_type": "stream",
     "text": [
      "Tests Passed\n"
     ]
    }
   ],
   "source": [
    "def get_init_cell(batch_size, rnn_size):\n",
    "    \"\"\"\n",
    "    Create an RNN Cell and initialize it.\n",
    "    :param batch_size: Size of batches\n",
    "    :param rnn_size: Size of RNNs\n",
    "    :return: Tuple (cell, initialize state)\n",
    "    \"\"\"\n",
    "    def build_cell(lstm_size, keep_prob):\n",
    "        # Use a basic LSTM cell\n",
    "        lstm = tf.contrib.rnn.BasicLSTMCell(lstm_size)\n",
    "\n",
    "        # Add dropout to the cell outputs\n",
    "        drop = tf.contrib.rnn.DropoutWrapper(lstm, output_keep_prob=keep_prob)\n",
    "        return drop\n",
    "    \n",
    "\n",
    "    # Stack up multiple LSTM layers, for deep learning\n",
    "    num_layers = 1\n",
    "    keep_prob=0.5\n",
    "    cell = tf.contrib.rnn.MultiRNNCell(\n",
    "        [build_cell(rnn_size, keep_prob) for _ in range(num_layers)])\n",
    "    initial_state = cell.zero_state(batch_size, tf.float32)\n",
    "    initial_state = tf.identity(initial_state, name='initial_state')\n",
    "    return cell, initial_state\n",
    "\n",
    "\n",
    "\"\"\"\n",
    "DON'T MODIFY ANYTHING IN THIS CELL THAT IS BELOW THIS LINE\n",
    "\"\"\"\n",
    "tests.test_get_init_cell(get_init_cell)"
   ]
  },
  {
   "cell_type": "markdown",
   "metadata": {
    "deletable": true,
    "editable": true
   },
   "source": [
    "### Word Embedding\n",
    "Apply embedding to `input_data` using TensorFlow.  Return the embedded sequence."
   ]
  },
  {
   "cell_type": "code",
   "execution_count": 176,
   "metadata": {
    "collapsed": false,
    "deletable": true,
    "editable": true
   },
   "outputs": [
    {
     "name": "stdout",
     "output_type": "stream",
     "text": [
      "Tests Passed\n"
     ]
    }
   ],
   "source": [
    "def get_embed(input_data, vocab_size, embed_dim):\n",
    "    \"\"\"\n",
    "    Create embedding for <input_data>.\n",
    "    :param input_data: TF placeholder for text input.\n",
    "    :param vocab_size: Number of words in vocabulary.\n",
    "    :param embed_dim: Number of embedding dimensions\n",
    "    :return: Embedded input.\n",
    "    \"\"\"\n",
    "    embedding = tf.Variable(tf.random_uniform((vocab_size, embed_dim), -1, 1))\n",
    "    embed = tf.nn.embedding_lookup(embedding, input_data)\n",
    "    return embed\n",
    "\n",
    "\n",
    "\"\"\"\n",
    "DON'T MODIFY ANYTHING IN THIS CELL THAT IS BELOW THIS LINE\n",
    "\"\"\"\n",
    "tests.test_get_embed(get_embed)"
   ]
  },
  {
   "cell_type": "markdown",
   "metadata": {
    "deletable": true,
    "editable": true
   },
   "source": [
    "### Build RNN\n",
    "You created a RNN Cell in the `get_init_cell()` function.  Time to use the cell to create a RNN.\n",
    "- Build the RNN using the [`tf.nn.dynamic_rnn()`](https://www.tensorflow.org/api_docs/python/tf/nn/dynamic_rnn)\n",
    " - Apply the name \"final_state\" to the final state using [`tf.identity()`](https://www.tensorflow.org/api_docs/python/tf/identity)\n",
    "\n",
    "Return the outputs and final_state state in the following tuple `(Outputs, FinalState)` "
   ]
  },
  {
   "cell_type": "code",
   "execution_count": 177,
   "metadata": {
    "collapsed": false,
    "deletable": true,
    "editable": true
   },
   "outputs": [
    {
     "name": "stdout",
     "output_type": "stream",
     "text": [
      "Tests Passed\n"
     ]
    }
   ],
   "source": [
    "def build_rnn(cell, inputs):\n",
    "    \"\"\"\n",
    "    Create a RNN using a RNN Cell\n",
    "    :param cell: RNN Cell\n",
    "    :param inputs: Input text data\n",
    "    :return: Tuple (Outputs, Final State)\n",
    "    \"\"\"\n",
    "    outputs, final_state = tf.nn.dynamic_rnn(cell, inputs, dtype=tf.float32)\n",
    "    final_state = tf.identity(final_state, name='final_state')\n",
    "    return outputs, final_state\n",
    "\n",
    "\n",
    "\"\"\"\n",
    "DON'T MODIFY ANYTHING IN THIS CELL THAT IS BELOW THIS LINE\n",
    "\"\"\"\n",
    "tests.test_build_rnn(build_rnn)"
   ]
  },
  {
   "cell_type": "markdown",
   "metadata": {
    "deletable": true,
    "editable": true
   },
   "source": [
    "### Build the Neural Network\n",
    "Apply the functions you implemented above to:\n",
    "- Apply embedding to `input_data` using your `get_embed(input_data, vocab_size, embed_dim)` function.\n",
    "- Build RNN using `cell` and your `build_rnn(cell, inputs)` function.\n",
    "- Apply a fully connected layer with a linear activation and `vocab_size` as the number of outputs.\n",
    "\n",
    "Return the logits and final state in the following tuple (Logits, FinalState) "
   ]
  },
  {
   "cell_type": "code",
   "execution_count": 178,
   "metadata": {
    "collapsed": false,
    "deletable": true,
    "editable": true
   },
   "outputs": [
    {
     "name": "stdout",
     "output_type": "stream",
     "text": [
      "Tests Passed\n"
     ]
    }
   ],
   "source": [
    "def build_nn(cell, rnn_size, input_data, vocab_size, embed_dim):\n",
    "    \"\"\"\n",
    "    Build part of the neural network\n",
    "    :param cell: RNN cell\n",
    "    :param rnn_size: Size of rnns\n",
    "    :param input_data: Input data\n",
    "    :param vocab_size: Vocabulary size\n",
    "    :param embed_dim: Number of embedding dimensions\n",
    "    :return: Tuple (Logits, FinalState)\n",
    "    \"\"\"\n",
    "    embedded = get_embed(input_data, vocab_size, embed_dim)\n",
    "    outputs, final_state = build_rnn(cell, embedded)\n",
    "    \n",
    "    logits = tf.contrib.layers.fully_connected(outputs, vocab_size, activation_fn=None)\n",
    "\n",
    "    return logits, final_state\n",
    "\n",
    "\n",
    "\"\"\"\n",
    "DON'T MODIFY ANYTHING IN THIS CELL THAT IS BELOW THIS LINE\n",
    "\"\"\"\n",
    "tests.test_build_nn(build_nn)"
   ]
  },
  {
   "cell_type": "markdown",
   "metadata": {
    "deletable": true,
    "editable": true
   },
   "source": [
    "### Batches\n",
    "Implement `get_batches` to create batches of input and targets using `int_text`.  The batches should be a Numpy array with the shape `(number of batches, 2, batch size, sequence length)`. Each batch contains two elements:\n",
    "- The first element is a single batch of **input** with the shape `[batch size, sequence length]`\n",
    "- The second element is a single batch of **targets** with the shape `[batch size, sequence length]`\n",
    "\n",
    "If you can't fill the last batch with enough data, drop the last batch.\n",
    "\n",
    "For exmple, `get_batches([1, 2, 3, 4, 5, 6, 7, 8, 9, 10, 11, 12, 13, 14, 15, 16, 17, 18, 19, 20], 3, 2)` would return a Numpy array of the following:\n",
    "```\n",
    "[\n",
    "  # First Batch\n",
    "  [\n",
    "    # Batch of Input\n",
    "    [[ 1  2], [ 7  8], [13 14]]\n",
    "    # Batch of targets\n",
    "    [[ 2  3], [ 8  9], [14 15]]\n",
    "  ]\n",
    "\n",
    "  # Second Batch\n",
    "  [\n",
    "    # Batch of Input\n",
    "    [[ 3  4], [ 9 10], [15 16]]\n",
    "    # Batch of targets\n",
    "    [[ 4  5], [10 11], [16 17]]\n",
    "  ]\n",
    "\n",
    "  # Third Batch\n",
    "  [\n",
    "    # Batch of Input\n",
    "    [[ 5  6], [11 12], [17 18]]\n",
    "    # Batch of targets\n",
    "    [[ 6  7], [12 13], [18  1]]\n",
    "  ]\n",
    "]\n",
    "```\n",
    "\n",
    "Notice that the last target value in the last batch is the first input value of the first batch. In this case, `1`. This is a common technique used when creating sequence batches, although it is rather unintuitive."
   ]
  },
  {
   "cell_type": "code",
   "execution_count": 179,
   "metadata": {
    "collapsed": false,
    "deletable": true,
    "editable": true
   },
   "outputs": [
    {
     "name": "stdout",
     "output_type": "stream",
     "text": [
      "Tests Passed\n"
     ]
    }
   ],
   "source": [
    "def get_batches(int_text, batch_size, seq_length):\n",
    "    \"\"\"\n",
    "    Return batches of input and target\n",
    "    :param int_text: Text with the words replaced by their ids\n",
    "    :param batch_size: The size of batch\n",
    "    :param seq_length: The length of sequence\n",
    "    :return: Batches as a Numpy array\n",
    "    \"\"\"\n",
    "\n",
    "    arr = np.array(int_text)\n",
    "    n_steps = batch_size // seq_length\n",
    "    chars_per_batch = batch_size * seq_length\n",
    "\n",
    "    n_batches = arr.shape[-1] // chars_per_batch\n",
    "    \n",
    "    # Keep only enough characters to make full batches\n",
    "    arr = arr[:n_batches * chars_per_batch]\n",
    "    \n",
    "    # Reshape into batch_size rows\n",
    "    arr2 = np.zeros_like(arr)\n",
    "    arr2[:-1], arr2[-1] = arr[1:], arr[0]\n",
    "    arr = arr.reshape((batch_size, -1))\n",
    "    arr2 = arr2.reshape((batch_size, -1))\n",
    "\n",
    "    output = []\n",
    "    for b in range(0, n_batches):\n",
    "        x = []\n",
    "        y = []\n",
    "        for n in range(len(arr)):\n",
    "            # The features\n",
    "            try:\n",
    "                x.append(arr[n][b * seq_length:(b + 1) * seq_length])\n",
    "            except:\n",
    "                print(n, b)\n",
    "\n",
    "            # The targets, shifted by one\n",
    "            y.append(arr2[n][b * seq_length:(b + 1) * seq_length])\n",
    "            \n",
    "        output.append([x, y])\n",
    "\n",
    "    return np.array(output)\n",
    "\n",
    "\n",
    "\n",
    "\n",
    "\"\"\"\n",
    "DON'T MODIFY ANYTHING IN THIS CELL THAT IS BELOW THIS LINE\n",
    "\"\"\"\n",
    "tests.test_get_batches(get_batches)"
   ]
  },
  {
   "cell_type": "markdown",
   "metadata": {
    "deletable": true,
    "editable": true
   },
   "source": [
    "## Neural Network Training\n",
    "### Hyperparameters\n",
    "Tune the following parameters:\n",
    "\n",
    "- Set `num_epochs` to the number of epochs.\n",
    "- Set `batch_size` to the batch size.\n",
    "- Set `rnn_size` to the size of the RNNs.\n",
    "- Set `embed_dim` to the size of the embedding.\n",
    "- Set `seq_length` to the length of sequence.\n",
    "- Set `learning_rate` to the learning rate.\n",
    "- Set `show_every_n_batches` to the number of batches the neural network should print progress."
   ]
  },
  {
   "cell_type": "code",
   "execution_count": 183,
   "metadata": {
    "collapsed": true,
    "deletable": true,
    "editable": true
   },
   "outputs": [],
   "source": [
    "# Number of Epochs\n",
    "num_epochs = 200\n",
    "# Batch Size\n",
    "batch_size = 52\n",
    "# RNN Size\n",
    "rnn_size = 512\n",
    "# Embedding Dimension Size\n",
    "embed_dim = 200\n",
    "# Sequence Length\n",
    "seq_length = 6\n",
    "# Learning Rate\n",
    "learning_rate = 0.0003\n",
    "# Show stats for every n number of batches\n",
    "show_every_n_batches = 100\n",
    "\n",
    "\"\"\"\n",
    "DON'T MODIFY ANYTHING IN THIS CELL THAT IS BELOW THIS LINE\n",
    "\"\"\"\n",
    "save_dir = './save'"
   ]
  },
  {
   "cell_type": "markdown",
   "metadata": {
    "deletable": true,
    "editable": true
   },
   "source": [
    "### Build the Graph\n",
    "Build the graph using the neural network you implemented."
   ]
  },
  {
   "cell_type": "code",
   "execution_count": 184,
   "metadata": {
    "collapsed": false,
    "deletable": true,
    "editable": true
   },
   "outputs": [],
   "source": [
    "\"\"\"\n",
    "DON'T MODIFY ANYTHING IN THIS CELL\n",
    "\"\"\"\n",
    "from tensorflow.contrib import seq2seq\n",
    "\n",
    "train_graph = tf.Graph()\n",
    "with train_graph.as_default():\n",
    "    vocab_size = len(int_to_vocab)\n",
    "    input_text, targets, lr = get_inputs()\n",
    "    input_data_shape = tf.shape(input_text)\n",
    "    cell, initial_state = get_init_cell(input_data_shape[0], rnn_size)\n",
    "    logits, final_state = build_nn(cell, rnn_size, input_text, vocab_size, embed_dim)\n",
    "\n",
    "    # Probabilities for generating words\n",
    "    probs = tf.nn.softmax(logits, name='probs')\n",
    "\n",
    "    # Loss function\n",
    "    cost = seq2seq.sequence_loss(\n",
    "        logits,\n",
    "        targets,\n",
    "        tf.ones([input_data_shape[0], input_data_shape[1]]))\n",
    "\n",
    "    # Optimizer\n",
    "    optimizer = tf.train.AdamOptimizer(lr)\n",
    "\n",
    "    # Gradient Clipping\n",
    "    gradients = optimizer.compute_gradients(cost)\n",
    "    capped_gradients = [(tf.clip_by_value(grad, -1., 1.), var) for grad, var in gradients if grad is not None]\n",
    "    train_op = optimizer.apply_gradients(capped_gradients)"
   ]
  },
  {
   "cell_type": "markdown",
   "metadata": {
    "deletable": true,
    "editable": true
   },
   "source": [
    "## Train\n",
    "Train the neural network on the preprocessed data.  If you have a hard time getting a good loss, check the [forums](https://discussions.udacity.com/) to see if anyone is having the same problem."
   ]
  },
  {
   "cell_type": "code",
   "execution_count": 185,
   "metadata": {
    "collapsed": false,
    "deletable": true,
    "editable": true
   },
   "outputs": [
    {
     "name": "stdout",
     "output_type": "stream",
     "text": [
      "Epoch   0 Batch    0/221   train_loss = 8.821\n",
      "Epoch   0 Batch  100/221   train_loss = 6.474\n",
      "Epoch   0 Batch  200/221   train_loss = 5.994\n",
      "Epoch   1 Batch   79/221   train_loss = 5.847\n",
      "Epoch   1 Batch  179/221   train_loss = 5.379\n",
      "Epoch   2 Batch   58/221   train_loss = 5.357\n",
      "Epoch   2 Batch  158/221   train_loss = 4.933\n",
      "Epoch   3 Batch   37/221   train_loss = 5.310\n",
      "Epoch   3 Batch  137/221   train_loss = 5.254\n",
      "Epoch   4 Batch   16/221   train_loss = 5.160\n",
      "Epoch   4 Batch  116/221   train_loss = 5.100\n",
      "Epoch   4 Batch  216/221   train_loss = 4.853\n",
      "Epoch   5 Batch   95/221   train_loss = 5.033\n",
      "Epoch   5 Batch  195/221   train_loss = 4.659\n",
      "Epoch   6 Batch   74/221   train_loss = 4.755\n",
      "Epoch   6 Batch  174/221   train_loss = 4.892\n",
      "Epoch   7 Batch   53/221   train_loss = 4.911\n",
      "Epoch   7 Batch  153/221   train_loss = 4.412\n",
      "Epoch   8 Batch   32/221   train_loss = 4.871\n",
      "Epoch   8 Batch  132/221   train_loss = 4.476\n",
      "Epoch   9 Batch   11/221   train_loss = 4.238\n",
      "Epoch   9 Batch  111/221   train_loss = 4.422\n",
      "Epoch   9 Batch  211/221   train_loss = 4.435\n",
      "Epoch  10 Batch   90/221   train_loss = 4.324\n",
      "Epoch  10 Batch  190/221   train_loss = 4.276\n",
      "Epoch  11 Batch   69/221   train_loss = 4.112\n",
      "Epoch  11 Batch  169/221   train_loss = 4.294\n",
      "Epoch  12 Batch   48/221   train_loss = 3.886\n",
      "Epoch  12 Batch  148/221   train_loss = 3.879\n",
      "Epoch  13 Batch   27/221   train_loss = 4.198\n",
      "Epoch  13 Batch  127/221   train_loss = 3.997\n",
      "Epoch  14 Batch    6/221   train_loss = 4.004\n",
      "Epoch  14 Batch  106/221   train_loss = 4.002\n",
      "Epoch  14 Batch  206/221   train_loss = 4.099\n",
      "Epoch  15 Batch   85/221   train_loss = 3.903\n",
      "Epoch  15 Batch  185/221   train_loss = 3.845\n",
      "Epoch  16 Batch   64/221   train_loss = 4.160\n",
      "Epoch  16 Batch  164/221   train_loss = 3.882\n",
      "Epoch  17 Batch   43/221   train_loss = 3.765\n",
      "Epoch  17 Batch  143/221   train_loss = 3.805\n",
      "Epoch  18 Batch   22/221   train_loss = 3.641\n",
      "Epoch  18 Batch  122/221   train_loss = 3.603\n",
      "Epoch  19 Batch    1/221   train_loss = 3.614\n",
      "Epoch  19 Batch  101/221   train_loss = 3.422\n",
      "Epoch  19 Batch  201/221   train_loss = 3.316\n",
      "Epoch  20 Batch   80/221   train_loss = 3.265\n",
      "Epoch  20 Batch  180/221   train_loss = 3.310\n",
      "Epoch  21 Batch   59/221   train_loss = 3.497\n",
      "Epoch  21 Batch  159/221   train_loss = 3.427\n",
      "Epoch  22 Batch   38/221   train_loss = 3.239\n",
      "Epoch  22 Batch  138/221   train_loss = 3.217\n",
      "Epoch  23 Batch   17/221   train_loss = 3.421\n",
      "Epoch  23 Batch  117/221   train_loss = 3.299\n",
      "Epoch  23 Batch  217/221   train_loss = 3.166\n",
      "Epoch  24 Batch   96/221   train_loss = 3.072\n",
      "Epoch  24 Batch  196/221   train_loss = 3.084\n",
      "Epoch  25 Batch   75/221   train_loss = 3.172\n",
      "Epoch  25 Batch  175/221   train_loss = 2.941\n",
      "Epoch  26 Batch   54/221   train_loss = 3.109\n",
      "Epoch  26 Batch  154/221   train_loss = 2.990\n",
      "Epoch  27 Batch   33/221   train_loss = 2.985\n",
      "Epoch  27 Batch  133/221   train_loss = 3.053\n",
      "Epoch  28 Batch   12/221   train_loss = 2.948\n",
      "Epoch  28 Batch  112/221   train_loss = 2.891\n",
      "Epoch  28 Batch  212/221   train_loss = 2.868\n",
      "Epoch  29 Batch   91/221   train_loss = 2.695\n",
      "Epoch  29 Batch  191/221   train_loss = 2.751\n",
      "Epoch  30 Batch   70/221   train_loss = 2.817\n",
      "Epoch  30 Batch  170/221   train_loss = 2.762\n",
      "Epoch  31 Batch   49/221   train_loss = 2.630\n",
      "Epoch  31 Batch  149/221   train_loss = 2.748\n",
      "Epoch  32 Batch   28/221   train_loss = 2.637\n",
      "Epoch  32 Batch  128/221   train_loss = 2.637\n",
      "Epoch  33 Batch    7/221   train_loss = 2.657\n",
      "Epoch  33 Batch  107/221   train_loss = 2.761\n",
      "Epoch  33 Batch  207/221   train_loss = 2.588\n",
      "Epoch  34 Batch   86/221   train_loss = 2.538\n",
      "Epoch  34 Batch  186/221   train_loss = 2.357\n",
      "Epoch  35 Batch   65/221   train_loss = 2.352\n",
      "Epoch  35 Batch  165/221   train_loss = 2.508\n",
      "Epoch  36 Batch   44/221   train_loss = 2.357\n",
      "Epoch  36 Batch  144/221   train_loss = 2.491\n",
      "Epoch  37 Batch   23/221   train_loss = 2.328\n",
      "Epoch  37 Batch  123/221   train_loss = 2.221\n",
      "Epoch  38 Batch    2/221   train_loss = 2.421\n",
      "Epoch  38 Batch  102/221   train_loss = 2.542\n",
      "Epoch  38 Batch  202/221   train_loss = 2.260\n",
      "Epoch  39 Batch   81/221   train_loss = 2.362\n",
      "Epoch  39 Batch  181/221   train_loss = 2.254\n",
      "Epoch  40 Batch   60/221   train_loss = 2.174\n",
      "Epoch  40 Batch  160/221   train_loss = 2.252\n",
      "Epoch  41 Batch   39/221   train_loss = 2.254\n",
      "Epoch  41 Batch  139/221   train_loss = 2.152\n",
      "Epoch  42 Batch   18/221   train_loss = 2.202\n",
      "Epoch  42 Batch  118/221   train_loss = 2.331\n",
      "Epoch  42 Batch  218/221   train_loss = 2.279\n",
      "Epoch  43 Batch   97/221   train_loss = 2.100\n",
      "Epoch  43 Batch  197/221   train_loss = 2.036\n",
      "Epoch  44 Batch   76/221   train_loss = 2.143\n",
      "Epoch  44 Batch  176/221   train_loss = 2.099\n",
      "Epoch  45 Batch   55/221   train_loss = 2.141\n",
      "Epoch  45 Batch  155/221   train_loss = 1.998\n",
      "Epoch  46 Batch   34/221   train_loss = 1.955\n",
      "Epoch  46 Batch  134/221   train_loss = 2.119\n",
      "Epoch  47 Batch   13/221   train_loss = 1.946\n",
      "Epoch  47 Batch  113/221   train_loss = 2.003\n",
      "Epoch  47 Batch  213/221   train_loss = 2.011\n",
      "Epoch  48 Batch   92/221   train_loss = 1.969\n",
      "Epoch  48 Batch  192/221   train_loss = 1.963\n",
      "Epoch  49 Batch   71/221   train_loss = 1.942\n",
      "Epoch  49 Batch  171/221   train_loss = 1.759\n",
      "Epoch  50 Batch   50/221   train_loss = 1.932\n",
      "Epoch  50 Batch  150/221   train_loss = 1.821\n",
      "Epoch  51 Batch   29/221   train_loss = 1.879\n",
      "Epoch  51 Batch  129/221   train_loss = 1.845\n",
      "Epoch  52 Batch    8/221   train_loss = 1.792\n",
      "Epoch  52 Batch  108/221   train_loss = 1.853\n",
      "Epoch  52 Batch  208/221   train_loss = 1.814\n",
      "Epoch  53 Batch   87/221   train_loss = 1.903\n",
      "Epoch  53 Batch  187/221   train_loss = 1.834\n",
      "Epoch  54 Batch   66/221   train_loss = 1.884\n",
      "Epoch  54 Batch  166/221   train_loss = 1.886\n",
      "Epoch  55 Batch   45/221   train_loss = 1.991\n",
      "Epoch  55 Batch  145/221   train_loss = 1.695\n",
      "Epoch  56 Batch   24/221   train_loss = 1.769\n",
      "Epoch  56 Batch  124/221   train_loss = 1.650\n",
      "Epoch  57 Batch    3/221   train_loss = 1.631\n",
      "Epoch  57 Batch  103/221   train_loss = 1.659\n",
      "Epoch  57 Batch  203/221   train_loss = 1.694\n",
      "Epoch  58 Batch   82/221   train_loss = 1.614\n",
      "Epoch  58 Batch  182/221   train_loss = 1.637\n",
      "Epoch  59 Batch   61/221   train_loss = 1.620\n",
      "Epoch  59 Batch  161/221   train_loss = 1.553\n",
      "Epoch  60 Batch   40/221   train_loss = 1.531\n",
      "Epoch  60 Batch  140/221   train_loss = 1.781\n",
      "Epoch  61 Batch   19/221   train_loss = 1.811\n",
      "Epoch  61 Batch  119/221   train_loss = 1.700\n",
      "Epoch  61 Batch  219/221   train_loss = 1.652\n",
      "Epoch  62 Batch   98/221   train_loss = 1.503\n",
      "Epoch  62 Batch  198/221   train_loss = 1.446\n",
      "Epoch  63 Batch   77/221   train_loss = 1.624\n",
      "Epoch  63 Batch  177/221   train_loss = 1.436\n",
      "Epoch  64 Batch   56/221   train_loss = 1.503\n",
      "Epoch  64 Batch  156/221   train_loss = 1.382\n",
      "Epoch  65 Batch   35/221   train_loss = 1.471\n",
      "Epoch  65 Batch  135/221   train_loss = 1.664\n",
      "Epoch  66 Batch   14/221   train_loss = 1.446\n",
      "Epoch  66 Batch  114/221   train_loss = 1.471\n",
      "Epoch  66 Batch  214/221   train_loss = 1.531\n",
      "Epoch  67 Batch   93/221   train_loss = 1.489\n",
      "Epoch  67 Batch  193/221   train_loss = 1.287\n",
      "Epoch  68 Batch   72/221   train_loss = 1.333\n",
      "Epoch  68 Batch  172/221   train_loss = 1.313\n",
      "Epoch  69 Batch   51/221   train_loss = 1.503\n",
      "Epoch  69 Batch  151/221   train_loss = 1.330\n",
      "Epoch  70 Batch   30/221   train_loss = 1.383\n",
      "Epoch  70 Batch  130/221   train_loss = 1.515\n",
      "Epoch  71 Batch    9/221   train_loss = 1.481\n",
      "Epoch  71 Batch  109/221   train_loss = 1.285\n",
      "Epoch  71 Batch  209/221   train_loss = 1.413\n",
      "Epoch  72 Batch   88/221   train_loss = 1.347\n",
      "Epoch  72 Batch  188/221   train_loss = 1.383\n",
      "Epoch  73 Batch   67/221   train_loss = 1.299\n",
      "Epoch  73 Batch  167/221   train_loss = 1.427\n",
      "Epoch  74 Batch   46/221   train_loss = 1.224\n",
      "Epoch  74 Batch  146/221   train_loss = 1.316\n",
      "Epoch  75 Batch   25/221   train_loss = 1.230\n",
      "Epoch  75 Batch  125/221   train_loss = 1.294\n",
      "Epoch  76 Batch    4/221   train_loss = 1.246\n",
      "Epoch  76 Batch  104/221   train_loss = 1.262\n",
      "Epoch  76 Batch  204/221   train_loss = 1.314\n",
      "Epoch  77 Batch   83/221   train_loss = 1.412\n",
      "Epoch  77 Batch  183/221   train_loss = 1.301\n",
      "Epoch  78 Batch   62/221   train_loss = 1.399\n",
      "Epoch  78 Batch  162/221   train_loss = 1.255\n",
      "Epoch  79 Batch   41/221   train_loss = 1.340\n",
      "Epoch  79 Batch  141/221   train_loss = 1.337\n",
      "Epoch  80 Batch   20/221   train_loss = 1.233\n",
      "Epoch  80 Batch  120/221   train_loss = 1.367\n",
      "Epoch  80 Batch  220/221   train_loss = 1.321\n",
      "Epoch  81 Batch   99/221   train_loss = 1.051\n",
      "Epoch  81 Batch  199/221   train_loss = 1.136\n",
      "Epoch  82 Batch   78/221   train_loss = 1.277\n",
      "Epoch  82 Batch  178/221   train_loss = 1.209\n",
      "Epoch  83 Batch   57/221   train_loss = 1.088\n",
      "Epoch  83 Batch  157/221   train_loss = 1.240\n",
      "Epoch  84 Batch   36/221   train_loss = 1.137\n",
      "Epoch  84 Batch  136/221   train_loss = 1.090\n",
      "Epoch  85 Batch   15/221   train_loss = 1.225\n",
      "Epoch  85 Batch  115/221   train_loss = 1.409\n",
      "Epoch  85 Batch  215/221   train_loss = 1.301\n",
      "Epoch  86 Batch   94/221   train_loss = 1.083\n",
      "Epoch  86 Batch  194/221   train_loss = 1.143\n",
      "Epoch  87 Batch   73/221   train_loss = 1.227\n",
      "Epoch  87 Batch  173/221   train_loss = 1.132\n",
      "Epoch  88 Batch   52/221   train_loss = 1.210\n",
      "Epoch  88 Batch  152/221   train_loss = 1.232\n",
      "Epoch  89 Batch   31/221   train_loss = 1.217\n",
      "Epoch  89 Batch  131/221   train_loss = 1.157\n",
      "Epoch  90 Batch   10/221   train_loss = 1.150\n",
      "Epoch  90 Batch  110/221   train_loss = 1.042\n",
      "Epoch  90 Batch  210/221   train_loss = 0.994\n",
      "Epoch  91 Batch   89/221   train_loss = 1.125\n",
      "Epoch  91 Batch  189/221   train_loss = 1.118\n",
      "Epoch  92 Batch   68/221   train_loss = 1.148\n",
      "Epoch  92 Batch  168/221   train_loss = 1.189\n",
      "Epoch  93 Batch   47/221   train_loss = 1.158\n",
      "Epoch  93 Batch  147/221   train_loss = 1.118\n",
      "Epoch  94 Batch   26/221   train_loss = 1.058\n",
      "Epoch  94 Batch  126/221   train_loss = 0.952\n",
      "Epoch  95 Batch    5/221   train_loss = 1.033\n",
      "Epoch  95 Batch  105/221   train_loss = 1.013\n",
      "Epoch  95 Batch  205/221   train_loss = 1.114\n",
      "Epoch  96 Batch   84/221   train_loss = 1.105\n",
      "Epoch  96 Batch  184/221   train_loss = 1.041\n",
      "Epoch  97 Batch   63/221   train_loss = 1.066\n",
      "Epoch  97 Batch  163/221   train_loss = 1.235\n",
      "Epoch  98 Batch   42/221   train_loss = 1.083\n",
      "Epoch  98 Batch  142/221   train_loss = 0.899\n",
      "Epoch  99 Batch   21/221   train_loss = 1.186\n",
      "Epoch  99 Batch  121/221   train_loss = 1.011\n",
      "Epoch 100 Batch    0/221   train_loss = 0.986\n",
      "Epoch 100 Batch  100/221   train_loss = 1.198\n",
      "Epoch 100 Batch  200/221   train_loss = 1.128\n",
      "Epoch 101 Batch   79/221   train_loss = 1.045\n",
      "Epoch 101 Batch  179/221   train_loss = 1.053\n",
      "Epoch 102 Batch   58/221   train_loss = 1.178\n",
      "Epoch 102 Batch  158/221   train_loss = 1.049\n",
      "Epoch 103 Batch   37/221   train_loss = 0.996\n",
      "Epoch 103 Batch  137/221   train_loss = 1.025\n",
      "Epoch 104 Batch   16/221   train_loss = 1.094\n",
      "Epoch 104 Batch  116/221   train_loss = 1.006\n",
      "Epoch 104 Batch  216/221   train_loss = 1.148\n",
      "Epoch 105 Batch   95/221   train_loss = 1.046\n",
      "Epoch 105 Batch  195/221   train_loss = 1.017\n",
      "Epoch 106 Batch   74/221   train_loss = 0.962\n",
      "Epoch 106 Batch  174/221   train_loss = 1.008\n",
      "Epoch 107 Batch   53/221   train_loss = 1.077\n",
      "Epoch 107 Batch  153/221   train_loss = 1.152\n",
      "Epoch 108 Batch   32/221   train_loss = 0.987\n",
      "Epoch 108 Batch  132/221   train_loss = 1.087\n",
      "Epoch 109 Batch   11/221   train_loss = 1.141\n",
      "Epoch 109 Batch  111/221   train_loss = 1.088\n",
      "Epoch 109 Batch  211/221   train_loss = 1.059\n",
      "Epoch 110 Batch   90/221   train_loss = 0.911\n",
      "Epoch 110 Batch  190/221   train_loss = 1.074\n",
      "Epoch 111 Batch   69/221   train_loss = 1.122\n",
      "Epoch 111 Batch  169/221   train_loss = 0.862\n",
      "Epoch 112 Batch   48/221   train_loss = 0.903\n",
      "Epoch 112 Batch  148/221   train_loss = 1.028\n",
      "Epoch 113 Batch   27/221   train_loss = 1.039\n",
      "Epoch 113 Batch  127/221   train_loss = 0.863\n",
      "Epoch 114 Batch    6/221   train_loss = 1.045\n",
      "Epoch 114 Batch  106/221   train_loss = 1.059\n",
      "Epoch 114 Batch  206/221   train_loss = 1.021\n",
      "Epoch 115 Batch   85/221   train_loss = 0.942\n",
      "Epoch 115 Batch  185/221   train_loss = 0.853\n",
      "Epoch 116 Batch   64/221   train_loss = 1.033\n",
      "Epoch 116 Batch  164/221   train_loss = 1.000\n",
      "Epoch 117 Batch   43/221   train_loss = 0.992\n",
      "Epoch 117 Batch  143/221   train_loss = 1.045\n",
      "Epoch 118 Batch   22/221   train_loss = 0.969\n",
      "Epoch 118 Batch  122/221   train_loss = 0.947\n",
      "Epoch 119 Batch    1/221   train_loss = 0.974\n",
      "Epoch 119 Batch  101/221   train_loss = 0.972\n",
      "Epoch 119 Batch  201/221   train_loss = 1.052\n",
      "Epoch 120 Batch   80/221   train_loss = 0.864\n",
      "Epoch 120 Batch  180/221   train_loss = 1.024\n",
      "Epoch 121 Batch   59/221   train_loss = 1.005\n",
      "Epoch 121 Batch  159/221   train_loss = 1.021\n",
      "Epoch 122 Batch   38/221   train_loss = 1.040\n",
      "Epoch 122 Batch  138/221   train_loss = 0.966\n",
      "Epoch 123 Batch   17/221   train_loss = 0.924\n",
      "Epoch 123 Batch  117/221   train_loss = 1.016\n",
      "Epoch 123 Batch  217/221   train_loss = 1.045\n",
      "Epoch 124 Batch   96/221   train_loss = 0.908\n",
      "Epoch 124 Batch  196/221   train_loss = 0.906\n",
      "Epoch 125 Batch   75/221   train_loss = 0.897\n",
      "Epoch 125 Batch  175/221   train_loss = 0.922\n",
      "Epoch 126 Batch   54/221   train_loss = 0.897\n",
      "Epoch 126 Batch  154/221   train_loss = 0.816\n",
      "Epoch 127 Batch   33/221   train_loss = 0.927\n",
      "Epoch 127 Batch  133/221   train_loss = 0.927\n",
      "Epoch 128 Batch   12/221   train_loss = 0.937\n",
      "Epoch 128 Batch  112/221   train_loss = 0.930\n",
      "Epoch 128 Batch  212/221   train_loss = 0.879\n",
      "Epoch 129 Batch   91/221   train_loss = 0.958\n",
      "Epoch 129 Batch  191/221   train_loss = 0.805\n",
      "Epoch 130 Batch   70/221   train_loss = 0.941\n",
      "Epoch 130 Batch  170/221   train_loss = 0.948\n",
      "Epoch 131 Batch   49/221   train_loss = 0.944\n",
      "Epoch 131 Batch  149/221   train_loss = 0.933\n",
      "Epoch 132 Batch   28/221   train_loss = 0.831\n",
      "Epoch 132 Batch  128/221   train_loss = 0.905\n",
      "Epoch 133 Batch    7/221   train_loss = 1.052\n",
      "Epoch 133 Batch  107/221   train_loss = 0.983\n",
      "Epoch 133 Batch  207/221   train_loss = 0.922\n",
      "Epoch 134 Batch   86/221   train_loss = 0.904\n",
      "Epoch 134 Batch  186/221   train_loss = 0.840\n",
      "Epoch 135 Batch   65/221   train_loss = 0.755\n",
      "Epoch 135 Batch  165/221   train_loss = 1.011\n",
      "Epoch 136 Batch   44/221   train_loss = 0.971\n",
      "Epoch 136 Batch  144/221   train_loss = 0.939\n",
      "Epoch 137 Batch   23/221   train_loss = 0.919\n",
      "Epoch 137 Batch  123/221   train_loss = 0.848\n",
      "Epoch 138 Batch    2/221   train_loss = 0.901\n",
      "Epoch 138 Batch  102/221   train_loss = 0.963\n",
      "Epoch 138 Batch  202/221   train_loss = 0.946\n",
      "Epoch 139 Batch   81/221   train_loss = 0.940\n",
      "Epoch 139 Batch  181/221   train_loss = 0.964\n",
      "Epoch 140 Batch   60/221   train_loss = 0.875\n",
      "Epoch 140 Batch  160/221   train_loss = 0.834\n",
      "Epoch 141 Batch   39/221   train_loss = 0.869\n",
      "Epoch 141 Batch  139/221   train_loss = 0.914\n",
      "Epoch 142 Batch   18/221   train_loss = 0.828\n",
      "Epoch 142 Batch  118/221   train_loss = 0.835\n",
      "Epoch 142 Batch  218/221   train_loss = 0.950\n",
      "Epoch 143 Batch   97/221   train_loss = 0.885\n",
      "Epoch 143 Batch  197/221   train_loss = 0.888\n",
      "Epoch 144 Batch   76/221   train_loss = 1.106\n",
      "Epoch 144 Batch  176/221   train_loss = 0.979\n",
      "Epoch 145 Batch   55/221   train_loss = 0.934\n",
      "Epoch 145 Batch  155/221   train_loss = 0.879\n",
      "Epoch 146 Batch   34/221   train_loss = 0.827\n",
      "Epoch 146 Batch  134/221   train_loss = 1.021\n",
      "Epoch 147 Batch   13/221   train_loss = 0.937\n",
      "Epoch 147 Batch  113/221   train_loss = 0.942\n",
      "Epoch 147 Batch  213/221   train_loss = 0.876\n",
      "Epoch 148 Batch   92/221   train_loss = 0.949\n",
      "Epoch 148 Batch  192/221   train_loss = 0.889\n",
      "Epoch 149 Batch   71/221   train_loss = 0.843\n",
      "Epoch 149 Batch  171/221   train_loss = 0.868\n",
      "Epoch 150 Batch   50/221   train_loss = 0.942\n",
      "Epoch 150 Batch  150/221   train_loss = 0.885\n",
      "Epoch 151 Batch   29/221   train_loss = 0.897\n",
      "Epoch 151 Batch  129/221   train_loss = 0.852\n",
      "Epoch 152 Batch    8/221   train_loss = 0.859\n",
      "Epoch 152 Batch  108/221   train_loss = 0.942\n",
      "Epoch 152 Batch  208/221   train_loss = 0.875\n",
      "Epoch 153 Batch   87/221   train_loss = 0.879\n",
      "Epoch 153 Batch  187/221   train_loss = 0.910\n",
      "Epoch 154 Batch   66/221   train_loss = 0.992\n",
      "Epoch 154 Batch  166/221   train_loss = 0.778\n",
      "Epoch 155 Batch   45/221   train_loss = 1.058\n",
      "Epoch 155 Batch  145/221   train_loss = 0.963\n",
      "Epoch 156 Batch   24/221   train_loss = 0.928\n",
      "Epoch 156 Batch  124/221   train_loss = 0.910\n",
      "Epoch 157 Batch    3/221   train_loss = 0.797\n",
      "Epoch 157 Batch  103/221   train_loss = 0.793\n",
      "Epoch 157 Batch  203/221   train_loss = 0.816\n",
      "Epoch 158 Batch   82/221   train_loss = 0.806\n",
      "Epoch 158 Batch  182/221   train_loss = 0.896\n",
      "Epoch 159 Batch   61/221   train_loss = 0.946\n",
      "Epoch 159 Batch  161/221   train_loss = 0.824\n",
      "Epoch 160 Batch   40/221   train_loss = 0.880\n",
      "Epoch 160 Batch  140/221   train_loss = 0.967\n",
      "Epoch 161 Batch   19/221   train_loss = 1.007\n",
      "Epoch 161 Batch  119/221   train_loss = 0.891\n",
      "Epoch 161 Batch  219/221   train_loss = 0.828\n",
      "Epoch 162 Batch   98/221   train_loss = 0.932\n",
      "Epoch 162 Batch  198/221   train_loss = 0.823\n",
      "Epoch 163 Batch   77/221   train_loss = 0.989\n",
      "Epoch 163 Batch  177/221   train_loss = 0.700\n",
      "Epoch 164 Batch   56/221   train_loss = 1.011\n",
      "Epoch 164 Batch  156/221   train_loss = 0.852\n",
      "Epoch 165 Batch   35/221   train_loss = 0.822\n",
      "Epoch 165 Batch  135/221   train_loss = 1.035\n",
      "Epoch 166 Batch   14/221   train_loss = 0.854\n",
      "Epoch 166 Batch  114/221   train_loss = 0.947\n",
      "Epoch 166 Batch  214/221   train_loss = 0.771\n",
      "Epoch 167 Batch   93/221   train_loss = 0.891\n",
      "Epoch 167 Batch  193/221   train_loss = 0.703\n",
      "Epoch 168 Batch   72/221   train_loss = 0.880\n",
      "Epoch 168 Batch  172/221   train_loss = 0.710\n",
      "Epoch 169 Batch   51/221   train_loss = 0.939\n",
      "Epoch 169 Batch  151/221   train_loss = 0.968\n",
      "Epoch 170 Batch   30/221   train_loss = 0.861\n",
      "Epoch 170 Batch  130/221   train_loss = 0.899\n",
      "Epoch 171 Batch    9/221   train_loss = 0.911\n",
      "Epoch 171 Batch  109/221   train_loss = 0.782\n",
      "Epoch 171 Batch  209/221   train_loss = 0.901\n",
      "Epoch 172 Batch   88/221   train_loss = 0.837\n",
      "Epoch 172 Batch  188/221   train_loss = 0.871\n",
      "Epoch 173 Batch   67/221   train_loss = 0.829\n",
      "Epoch 173 Batch  167/221   train_loss = 0.887\n",
      "Epoch 174 Batch   46/221   train_loss = 0.901\n",
      "Epoch 174 Batch  146/221   train_loss = 0.932\n",
      "Epoch 175 Batch   25/221   train_loss = 0.868\n",
      "Epoch 175 Batch  125/221   train_loss = 0.897\n",
      "Epoch 176 Batch    4/221   train_loss = 0.863\n",
      "Epoch 176 Batch  104/221   train_loss = 0.804\n",
      "Epoch 176 Batch  204/221   train_loss = 0.829\n",
      "Epoch 177 Batch   83/221   train_loss = 1.018\n",
      "Epoch 177 Batch  183/221   train_loss = 0.861\n",
      "Epoch 178 Batch   62/221   train_loss = 0.906\n",
      "Epoch 178 Batch  162/221   train_loss = 0.896\n",
      "Epoch 179 Batch   41/221   train_loss = 0.909\n",
      "Epoch 179 Batch  141/221   train_loss = 0.803\n",
      "Epoch 180 Batch   20/221   train_loss = 0.839\n",
      "Epoch 180 Batch  120/221   train_loss = 0.967\n",
      "Epoch 180 Batch  220/221   train_loss = 0.933\n",
      "Epoch 181 Batch   99/221   train_loss = 0.699\n",
      "Epoch 181 Batch  199/221   train_loss = 0.818\n",
      "Epoch 182 Batch   78/221   train_loss = 0.747\n",
      "Epoch 182 Batch  178/221   train_loss = 0.909\n",
      "Epoch 183 Batch   57/221   train_loss = 0.723\n",
      "Epoch 183 Batch  157/221   train_loss = 0.836\n",
      "Epoch 184 Batch   36/221   train_loss = 0.768\n",
      "Epoch 184 Batch  136/221   train_loss = 0.763\n",
      "Epoch 185 Batch   15/221   train_loss = 0.945\n",
      "Epoch 185 Batch  115/221   train_loss = 0.847\n",
      "Epoch 185 Batch  215/221   train_loss = 0.924\n",
      "Epoch 186 Batch   94/221   train_loss = 0.767\n",
      "Epoch 186 Batch  194/221   train_loss = 0.815\n",
      "Epoch 187 Batch   73/221   train_loss = 0.802\n",
      "Epoch 187 Batch  173/221   train_loss = 0.783\n",
      "Epoch 188 Batch   52/221   train_loss = 0.862\n",
      "Epoch 188 Batch  152/221   train_loss = 0.992\n",
      "Epoch 189 Batch   31/221   train_loss = 0.923\n",
      "Epoch 189 Batch  131/221   train_loss = 0.798\n",
      "Epoch 190 Batch   10/221   train_loss = 0.868\n",
      "Epoch 190 Batch  110/221   train_loss = 0.796\n",
      "Epoch 190 Batch  210/221   train_loss = 0.679\n",
      "Epoch 191 Batch   89/221   train_loss = 0.804\n",
      "Epoch 191 Batch  189/221   train_loss = 0.785\n",
      "Epoch 192 Batch   68/221   train_loss = 0.807\n",
      "Epoch 192 Batch  168/221   train_loss = 0.854\n",
      "Epoch 193 Batch   47/221   train_loss = 0.914\n",
      "Epoch 193 Batch  147/221   train_loss = 0.870\n",
      "Epoch 194 Batch   26/221   train_loss = 0.834\n",
      "Epoch 194 Batch  126/221   train_loss = 0.767\n",
      "Epoch 195 Batch    5/221   train_loss = 0.875\n",
      "Epoch 195 Batch  105/221   train_loss = 0.803\n",
      "Epoch 195 Batch  205/221   train_loss = 0.845\n",
      "Epoch 196 Batch   84/221   train_loss = 0.788\n",
      "Epoch 196 Batch  184/221   train_loss = 0.829\n",
      "Epoch 197 Batch   63/221   train_loss = 0.813\n",
      "Epoch 197 Batch  163/221   train_loss = 0.968\n",
      "Epoch 198 Batch   42/221   train_loss = 0.860\n",
      "Epoch 198 Batch  142/221   train_loss = 0.731\n",
      "Epoch 199 Batch   21/221   train_loss = 0.936\n",
      "Epoch 199 Batch  121/221   train_loss = 0.807\n",
      "Model Trained and Saved\n"
     ]
    }
   ],
   "source": [
    "\"\"\"\n",
    "DON'T MODIFY ANYTHING IN THIS CELL\n",
    "\"\"\"\n",
    "batches = get_batches(int_text, batch_size, seq_length)\n",
    "\n",
    "with tf.Session(graph=train_graph) as sess:\n",
    "    sess.run(tf.global_variables_initializer())\n",
    "\n",
    "    for epoch_i in range(num_epochs):\n",
    "        state = sess.run(initial_state, {input_text: batches[0][0]})\n",
    "\n",
    "        for batch_i, (x, y) in enumerate(batches):\n",
    "            feed = {\n",
    "                input_text: x,\n",
    "                targets: y,\n",
    "                initial_state: state,\n",
    "                lr: learning_rate}\n",
    "            train_loss, state, _ = sess.run([cost, final_state, train_op], feed)\n",
    "\n",
    "            # Show every <show_every_n_batches> batches\n",
    "            if (epoch_i * len(batches) + batch_i) % show_every_n_batches == 0:\n",
    "                print('Epoch {:>3} Batch {:>4}/{}   train_loss = {:.3f}'.format(\n",
    "                    epoch_i,\n",
    "                    batch_i,\n",
    "                    len(batches),\n",
    "                    train_loss))\n",
    "\n",
    "    # Save Model\n",
    "    saver = tf.train.Saver()\n",
    "    saver.save(sess, save_dir)\n",
    "    print('Model Trained and Saved')"
   ]
  },
  {
   "cell_type": "markdown",
   "metadata": {
    "deletable": true,
    "editable": true
   },
   "source": [
    "## Save Parameters\n",
    "Save `seq_length` and `save_dir` for generating a new TV script."
   ]
  },
  {
   "cell_type": "code",
   "execution_count": 186,
   "metadata": {
    "collapsed": false,
    "deletable": true,
    "editable": true
   },
   "outputs": [],
   "source": [
    "\"\"\"\n",
    "DON'T MODIFY ANYTHING IN THIS CELL\n",
    "\"\"\"\n",
    "# Save parameters for checkpoint\n",
    "helper.save_params((seq_length, save_dir))"
   ]
  },
  {
   "cell_type": "markdown",
   "metadata": {
    "deletable": true,
    "editable": true
   },
   "source": [
    "# Checkpoint"
   ]
  },
  {
   "cell_type": "code",
   "execution_count": 187,
   "metadata": {
    "collapsed": false,
    "deletable": true,
    "editable": true
   },
   "outputs": [],
   "source": [
    "\"\"\"\n",
    "DON'T MODIFY ANYTHING IN THIS CELL\n",
    "\"\"\"\n",
    "import tensorflow as tf\n",
    "import numpy as np\n",
    "import helper\n",
    "import problem_unittests as tests\n",
    "\n",
    "_, vocab_to_int, int_to_vocab, token_dict = helper.load_preprocess()\n",
    "seq_length, load_dir = helper.load_params()"
   ]
  },
  {
   "cell_type": "markdown",
   "metadata": {
    "deletable": true,
    "editable": true
   },
   "source": [
    "## Implement Generate Functions\n",
    "### Get Tensors\n",
    "Get tensors from `loaded_graph` using the function [`get_tensor_by_name()`](https://www.tensorflow.org/api_docs/python/tf/Graph#get_tensor_by_name).  Get the tensors using the following names:\n",
    "- \"input:0\"\n",
    "- \"initial_state:0\"\n",
    "- \"final_state:0\"\n",
    "- \"probs:0\"\n",
    "\n",
    "Return the tensors in the following tuple `(InputTensor, InitialStateTensor, FinalStateTensor, ProbsTensor)` "
   ]
  },
  {
   "cell_type": "code",
   "execution_count": 189,
   "metadata": {
    "collapsed": false,
    "deletable": true,
    "editable": true
   },
   "outputs": [
    {
     "name": "stdout",
     "output_type": "stream",
     "text": [
      "Tests Passed\n"
     ]
    }
   ],
   "source": [
    "def get_tensors(loaded_graph):\n",
    "    \"\"\"\n",
    "    Get input, initial state, final state, and probabilities tensor from <loaded_graph>\n",
    "    :param loaded_graph: TensorFlow graph loaded from file\n",
    "    :return: Tuple (InputTensor, InitialStateTensor, FinalStateTensor, ProbsTensor)\n",
    "    \"\"\"\n",
    "    input_tensor = loaded_graph.get_tensor_by_name(\"input:0\")\n",
    "    initial_state_tensor = loaded_graph.get_tensor_by_name(\"initial_state:0\")\n",
    "    final_state_tensor = loaded_graph.get_tensor_by_name(\"final_state:0\")\n",
    "    probs_tensor = loaded_graph.get_tensor_by_name(\"probs:0\")\n",
    "    return input_tensor, initial_state_tensor, final_state_tensor, probs_tensor\n",
    "\n",
    "\n",
    "\"\"\"\n",
    "DON'T MODIFY ANYTHING IN THIS CELL THAT IS BELOW THIS LINE\n",
    "\"\"\"\n",
    "tests.test_get_tensors(get_tensors)"
   ]
  },
  {
   "cell_type": "markdown",
   "metadata": {
    "deletable": true,
    "editable": true
   },
   "source": [
    "### Choose Word\n",
    "Implement the `pick_word()` function to select the next word using `probabilities`."
   ]
  },
  {
   "cell_type": "code",
   "execution_count": 194,
   "metadata": {
    "collapsed": false,
    "deletable": true,
    "editable": true
   },
   "outputs": [
    {
     "name": "stdout",
     "output_type": "stream",
     "text": [
      "Tests Passed\n"
     ]
    }
   ],
   "source": [
    "def pick_word(probabilities, int_to_vocab):\n",
    "    \"\"\"\n",
    "    Pick the next word in the generated text\n",
    "    :param probabilities: Probabilites of the next word\n",
    "    :param int_to_vocab: Dictionary of word ids as the keys and words as the values\n",
    "    :return: String of the predicted word\n",
    "    \"\"\"\n",
    "\n",
    "    idx = np.argmax(probabilities)\n",
    "    word = int_to_vocab[idx]\n",
    "    return word\n",
    "\n",
    "\n",
    "\"\"\"\n",
    "DON'T MODIFY ANYTHING IN THIS CELL THAT IS BELOW THIS LINE\n",
    "\"\"\"\n",
    "tests.test_pick_word(pick_word)"
   ]
  },
  {
   "cell_type": "markdown",
   "metadata": {
    "deletable": true,
    "editable": true
   },
   "source": [
    "## Generate TV Script\n",
    "This will generate the TV script for you.  Set `gen_length` to the length of TV script you want to generate."
   ]
  },
  {
   "cell_type": "code",
   "execution_count": 195,
   "metadata": {
    "collapsed": false,
    "deletable": true,
    "editable": true
   },
   "outputs": [
    {
     "name": "stdout",
     "output_type": "stream",
     "text": [
      "moe_szyslak:(sigh) if i knew you've gotta be a couple like you're back. now how in you stupid to sing that?\n",
      "moe_szyslak:(nods) uh, homer, i'm afraid you more. i'm too on!\n",
      "moe_szyslak:(stunned) oh, it was no more of moe. you're gonna be kept too far drinkin'!.\n",
      "moe_szyslak: won!\n",
      "carl_carlson: hey, get an phone! you and play that way friends.\n",
      "moe_szyslak:(sing) just a minute of my wife, but is mr. just a good moron?\n",
      "moe_szyslak: ah, yeah.(better) and gentlemen, i knew that\" i'm surprised. i've had to hang out of a man with face that dog in the mail in a while i'm the deal?\n",
      "moe_szyslak: well, a little man.\n",
      "moe_szyslak:(clears throat) yeah, it's calling a bad!\n",
      "\n",
      "lenny_leonard: want, sir, hey, am. i was the president than that stuff.\n",
      "\n",
      "\n",
      "moe_szyslak: no... i can't never lie down.\n"
     ]
    }
   ],
   "source": [
    "gen_length = 200\n",
    "# homer_simpson, moe_szyslak, or Barney_Gumble\n",
    "prime_word = 'moe_szyslak'\n",
    "\n",
    "\"\"\"\n",
    "DON'T MODIFY ANYTHING IN THIS CELL THAT IS BELOW THIS LINE\n",
    "\"\"\"\n",
    "loaded_graph = tf.Graph()\n",
    "with tf.Session(graph=loaded_graph) as sess:\n",
    "    # Load saved model\n",
    "    loader = tf.train.import_meta_graph(load_dir + '.meta')\n",
    "    loader.restore(sess, load_dir)\n",
    "\n",
    "    # Get Tensors from loaded model\n",
    "    input_text, initial_state, final_state, probs = get_tensors(loaded_graph)\n",
    "\n",
    "    # Sentences generation setup\n",
    "    gen_sentences = [prime_word + ':']\n",
    "    prev_state = sess.run(initial_state, {input_text: np.array([[1]])})\n",
    "\n",
    "    # Generate sentences\n",
    "    for n in range(gen_length):\n",
    "        # Dynamic Input\n",
    "        dyn_input = [[vocab_to_int[word] for word in gen_sentences[-seq_length:]]]\n",
    "        dyn_seq_length = len(dyn_input[0])\n",
    "\n",
    "        # Get Prediction\n",
    "        probabilities, prev_state = sess.run(\n",
    "            [probs, final_state],\n",
    "            {input_text: dyn_input, initial_state: prev_state})\n",
    "        \n",
    "        pred_word = pick_word(probabilities[dyn_seq_length-1], int_to_vocab)\n",
    "\n",
    "        gen_sentences.append(pred_word)\n",
    "    \n",
    "    # Remove tokens\n",
    "    tv_script = ' '.join(gen_sentences)\n",
    "    for key, token in token_dict.items():\n",
    "        ending = ' ' if key in ['\\n', '(', '\"'] else ''\n",
    "        tv_script = tv_script.replace(' ' + token.lower(), key)\n",
    "    tv_script = tv_script.replace('\\n ', '\\n')\n",
    "    tv_script = tv_script.replace('( ', '(')\n",
    "        \n",
    "    print(tv_script)"
   ]
  },
  {
   "cell_type": "markdown",
   "metadata": {
    "deletable": true,
    "editable": true
   },
   "source": [
    "# The TV Script is Nonsensical\n",
    "It's ok if the TV script doesn't make any sense.  We trained on less than a megabyte of text.  In order to get good results, you'll have to use a smaller vocabulary or get more data.  Luckly there's more data!  As we mentioned in the begging of this project, this is a subset of [another dataset](https://www.kaggle.com/wcukierski/the-simpsons-by-the-data).  We didn't have you train on all the data, because that would take too long.  However, you are free to train your neural network on all the data.  After you complete the project, of course.\n",
    "# Submitting This Project\n",
    "When submitting this project, make sure to run all the cells before saving the notebook. Save the notebook file as \"dlnd_tv_script_generation.ipynb\" and save it as a HTML file under \"File\" -> \"Download as\". Include the \"helper.py\" and \"problem_unittests.py\" files in your submission."
   ]
  }
 ],
 "metadata": {
  "kernelspec": {
   "display_name": "deep-learning",
   "language": "python",
   "name": "dl"
  },
  "language_info": {
   "codemirror_mode": {
    "name": "ipython",
    "version": 3
   },
   "file_extension": ".py",
   "mimetype": "text/x-python",
   "name": "python",
   "nbconvert_exporter": "python",
   "pygments_lexer": "ipython3",
   "version": "3.5.2"
  },
  "widgets": {
   "state": {},
   "version": "1.1.2"
  }
 },
 "nbformat": 4,
 "nbformat_minor": 0
}
